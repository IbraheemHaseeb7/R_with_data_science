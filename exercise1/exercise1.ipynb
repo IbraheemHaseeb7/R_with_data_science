{
 "cells": [
  {
   "cell_type": "markdown",
   "metadata": {},
   "source": [
    "## Package Installation\n",
    "install the package in your `R` if it does not exist already "
   ]
  },
  {
   "cell_type": "code",
   "execution_count": null,
   "metadata": {
    "vscode": {
     "languageId": "r"
    }
   },
   "outputs": [],
   "source": [
    "install.packages(\"tidyverse\")"
   ]
  },
  {
   "cell_type": "markdown",
   "metadata": {},
   "source": [
    "## Importing the package"
   ]
  },
  {
   "cell_type": "code",
   "execution_count": null,
   "metadata": {
    "vscode": {
     "languageId": "r"
    }
   },
   "outputs": [],
   "source": [
    "library(tidyverse)"
   ]
  },
  {
   "cell_type": "markdown",
   "metadata": {},
   "source": [
    "## Data Set/Frame\n",
    "\n",
    "Now lets create some data with which we can do some data plotting/visualizing using our newly installed library `tidyverse` where we will be using `tibbles`, `dplyr`, and many more libraries"
   ]
  },
  {
   "cell_type": "code",
   "execution_count": null,
   "metadata": {
    "vscode": {
     "languageId": "r"
    }
   },
   "outputs": [],
   "source": [
    "# Build a tibble of student data\n",
    "df_students <- tibble(\n",
    "  \n",
    "  # Student names\n",
    "  name = c('Dan', 'Joann', 'Pedro', 'Rosie', 'Ethan', 'Vicky',\n",
    "           'Frederic', 'Jimmie', 'Rhonda', 'Giovanni',\n",
    "           'Francesca', 'Rajab', 'Naiyana', 'Kian', 'Jenny',\n",
    "           'Jakeem','Helena','Ismat','Anila','Skye','Daniel',\n",
    "           'Aisha'),\n",
    "  \n",
    "  # Study hours\n",
    "  study_hours = c(10.0, 11.5, 9.0, 16.0, 9.25, 1.0, 11.5, 9.0,\n",
    "                 8.5, 14.5, 15.5, 13.75, 9.0, 8.0, 15.5, 8.0,\n",
    "                 9.0, 6.0, 10.0, 12.0, 12.5, 12.0),\n",
    "  \n",
    "  # Grades\n",
    "  grade = c(50, 50, 47, 97, 49, 3, 53, 42, 26,\n",
    "             74, 82, 62, 37, 15, 70, 27, 36, 35,\n",
    "             48, 52, 63, 64)\n",
    ")\n",
    "\n",
    "# Print the tibble\n",
    "df_students"
   ]
  },
  {
   "cell_type": "markdown",
   "metadata": {},
   "source": [
    "## Importing data from Online CSV File\n",
    "\n",
    "We can use the `read_csv` function and then slice_head function to query certain number of rows only"
   ]
  },
  {
   "cell_type": "code",
   "execution_count": null,
   "metadata": {
    "vscode": {
     "languageId": "r"
    }
   },
   "outputs": [],
   "source": [
    "# Importing using read_csv function\n",
    "students <- read.csv(file = \"https://raw.githubusercontent.com/MicrosoftDocs/ml-basics/master/data/grades.csv\")\n",
    "\n",
    "# printing data from csv, particularly first 10 results from it\n",
    "slice_head(students, n = 10)\n",
    "\n",
    "# printing results from 5-10 rows\n",
    "slice(students, 5:10)"
   ]
  },
  {
   "cell_type": "markdown",
   "metadata": {},
   "source": []
  },
  {
   "cell_type": "markdown",
   "metadata": {},
   "source": [
    "## Lets do some Queries\n",
    "\n",
    "We can filter the data out using the `filter` function in `dplyr` library like this"
   ]
  },
  {
   "cell_type": "code",
   "execution_count": null,
   "metadata": {
    "vscode": {
     "languageId": "r"
    }
   },
   "outputs": [],
   "source": [
    "# Fetches where the column `Name` has value `Jenny`\n",
    "filter(students, Name == \"Jenny\")\n",
    "\n",
    "# Kind of works like the SQL in function\n",
    "# Basically queries where the `Name` column has `Jenny` and `Giovanni` in it.\n",
    "# The data to be queried is in vector form indicated by `c`\n",
    "filter(students, Name %in% c(\"Jenny\", \"Giovanni\"))\n",
    "\n",
    "# We can query mutliple factors just by adding a comma\n",
    "# This works as `AND` operation\n",
    "filter(students, StudyHours > 12, Grade > 80)\n",
    "\n",
    "# OR\n",
    "\n",
    "filter(students, StudyHours > 12 & Grade > 80)"
   ]
  },
  {
   "cell_type": "markdown",
   "metadata": {},
   "source": [
    "## Check Missing Values\n",
    "\n",
    "You can check the missing values using several functions provided within the dplyr library. You can even combine the functions below with the filter function to create your own complex queries"
   ]
  },
  {
   "cell_type": "markdown",
   "metadata": {},
   "source": []
  },
  {
   "cell_type": "code",
   "execution_count": null,
   "metadata": {
    "vscode": {
     "languageId": "r"
    }
   },
   "outputs": [],
   "source": [
    "# Filters out the only missing rows and returns with TRUE or FALSE\n",
    "anyNA(students)\n",
    "\n",
    "# Prints the entire table and prints TRUE where there is missing value\n",
    "# and FALSE where there is a value\n",
    "is.na(students)\n",
    "\n",
    "# Prints the sum of all missing values in column\n",
    "colSums(is.na(students))\n",
    "\n",
    "# Works for rows\n",
    "rowSums(is.na(students))"
   ]
  },
  {
   "cell_type": "markdown",
   "metadata": {},
   "source": [
    "## Lets Change Data\n",
    "\n",
    "You can play around with the data, lets say with the missing values, and replace them with something useful. To achieve this goal we can use `tidyr` that comes with tidyverse. The job of this library is to tidy up the data and make it look meanningful "
   ]
  },
  {
   "cell_type": "code",
   "execution_count": null,
   "metadata": {
    "vscode": {
     "languageId": "r"
    }
   },
   "outputs": [],
   "source": [
    "# mutate function is used to make changes to the data\n",
    "\n",
    "# replace_na function is used to replace the data cell with the value\n",
    "# we assign where the data is missing\n",
    "\n",
    "# mean function takes the mean of the data of the entire column\n",
    "# where the data is available because of na.rm = TRUE value\n",
    "# na.rm = TRUE is used to exclude the missing values\n",
    "students <- students %<%\n",
    "mutate(StudyHours = replace_na(StudyHours, mean(StudyHours, na.rm = TRUE)))\n",
    "\n",
    "# drop_na basically removes the rows which have any data cell empty\n",
    "students <- students %<%\n",
    "drop_na()"
   ]
  },
  {
   "cell_type": "markdown",
   "metadata": {},
   "source": [
    "## Now let's do some calculations\n",
    "\n",
    "Lets see how some functions work in dplyr"
   ]
  },
  {
   "cell_type": "code",
   "execution_count": null,
   "metadata": {
    "vscode": {
     "languageId": "r"
    }
   },
   "outputs": [],
   "source": [
    "# takes mean of all the values in the column `StudyHours`\n",
    "mean_stude <- mean(students$StudyHours)\n",
    "\n",
    "# This works exactly like above\n",
    "mean_grade <- students %>%\n",
    "    pull(Grade) %>%\n",
    "    mean()"
   ]
  },
  {
   "cell_type": "markdown",
   "metadata": {},
   "source": [
    "## Make your first query\n",
    "\n",
    "Now that we know a bunch of functionalities, let's try to extract some meaningful information like students who have grade higher than 50, lets assign them PASS and assign FAIL to rest of them"
   ]
  },
  {
   "cell_type": "code",
   "execution_count": null,
   "metadata": {
    "vscode": {
     "languageId": "r"
    }
   },
   "outputs": [],
   "source": [
    "# Creates a new column named `Status` and checks if Grade \n",
    "# is higher than 60 then assign PASS else FAIL\n",
    "results <- students %>%\n",
    "  mutate(Status = if_else(Grade >= 60, \"PASS\", \"FAIL\"))\n",
    "\n",
    "# now lets see the mean of StudyHours and Grade of students\n",
    "# who failed and passed\n",
    "results %>%\n",
    "  group_by(Status) %>%\n",
    "  summarise(mean_study = mean(StudyHours), mean_grade = mean(Grade))\n",
    "\n",
    "# the same can be done in this fashion, lets say you have many\n",
    "# columns and you want to take mean of every column, you can use\n",
    "# across function with the check that if column has numeric values\n",
    "# take its mean\n",
    "results %>% \n",
    "  group_by(Status) %>% \n",
    "  summarise(across(where(is.numeric), mean))"
   ]
  },
  {
   "cell_type": "markdown",
   "metadata": {},
   "source": [
    "## Select specific columns and Order them"
   ]
  },
  {
   "cell_type": "code",
   "execution_count": null,
   "metadata": {
    "vscode": {
     "languageId": "r"
    }
   },
   "outputs": [],
   "source": [
    "# select specific columns like Name and Status\n",
    "select(results, Name, Status)\n",
    "\n",
    "# select all except status column\n",
    "select(results, !Status)\n",
    "\n",
    "# sort the results by grade\n",
    "results %>%\n",
    "  arrange(desc(Grade))"
   ]
  }
 ],
 "metadata": {
  "language_info": {
   "name": "python"
  },
  "orig_nbformat": 4
 },
 "nbformat": 4,
 "nbformat_minor": 2
}

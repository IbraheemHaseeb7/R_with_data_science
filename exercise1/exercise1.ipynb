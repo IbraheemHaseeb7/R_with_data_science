{
 "cells": [
  {
   "cell_type": "markdown",
   "metadata": {},
   "source": [
    "## Package Installation\n",
    "install the package in your `R` if it does not exist already "
   ]
  },
  {
   "cell_type": "code",
   "execution_count": null,
   "metadata": {
    "vscode": {
     "languageId": "r"
    }
   },
   "outputs": [],
   "source": [
    "install.packages(\"tidyverse\")"
   ]
  },
  {
   "cell_type": "markdown",
   "metadata": {},
   "source": [
    "## Importing the package"
   ]
  },
  {
   "cell_type": "code",
   "execution_count": null,
   "metadata": {
    "vscode": {
     "languageId": "r"
    }
   },
   "outputs": [],
   "source": [
    "library(tidyverse)"
   ]
  },
  {
   "cell_type": "markdown",
   "metadata": {},
   "source": [
    "## Data Set/Frame\n",
    "\n",
    "Now lets create some data with which we can do some data plotting/visualizing using our newly installed library `tidyverse` where we will be using `tibbles`, `dplyr`, and many more libraries"
   ]
  },
  {
   "cell_type": "code",
   "execution_count": null,
   "metadata": {
    "vscode": {
     "languageId": "r"
    }
   },
   "outputs": [],
   "source": [
    "# Build a tibble of student data\n",
    "df_students <- tibble(\n",
    "  \n",
    "  # Student names\n",
    "  name = c('Dan', 'Joann', 'Pedro', 'Rosie', 'Ethan', 'Vicky',\n",
    "           'Frederic', 'Jimmie', 'Rhonda', 'Giovanni',\n",
    "           'Francesca', 'Rajab', 'Naiyana', 'Kian', 'Jenny',\n",
    "           'Jakeem','Helena','Ismat','Anila','Skye','Daniel',\n",
    "           'Aisha'),\n",
    "  \n",
    "  # Study hours\n",
    "  study_hours = c(10.0, 11.5, 9.0, 16.0, 9.25, 1.0, 11.5, 9.0,\n",
    "                 8.5, 14.5, 15.5, 13.75, 9.0, 8.0, 15.5, 8.0,\n",
    "                 9.0, 6.0, 10.0, 12.0, 12.5, 12.0),\n",
    "  \n",
    "  # Grades\n",
    "  grade = c(50, 50, 47, 97, 49, 3, 53, 42, 26,\n",
    "             74, 82, 62, 37, 15, 70, 27, 36, 35,\n",
    "             48, 52, 63, 64)\n",
    ")\n",
    "\n",
    "# Print the tibble\n",
    "df_students"
   ]
  },
  {
   "cell_type": "markdown",
   "metadata": {},
   "source": [
    "## Importing data from Online CSV File\n",
    "\n",
    "We can use the `read_csv` function and then slice_head function to query certain number of rows only"
   ]
  },
  {
   "cell_type": "code",
   "execution_count": null,
   "metadata": {
    "vscode": {
     "languageId": "r"
    }
   },
   "outputs": [],
   "source": [
    "# Importing using read_csv function\n",
    "students <- read.csv(file = \"https://raw.githubusercontent.com/MicrosoftDocs/ml-basics/master/data/grades.csv\")\n",
    "\n",
    "# printing data from csv, particularly first 10 results from it\n",
    "slice_head(students, n = 10)\n",
    "\n",
    "# printing results from 5-10 rows\n",
    "slice(students, 5:10)"
   ]
  },
  {
   "cell_type": "markdown",
   "metadata": {},
   "source": []
  },
  {
   "cell_type": "markdown",
   "metadata": {},
   "source": [
    "## Lets do some Queries\n",
    "\n",
    "We can filter the data out using the `filter` function in `dplyr` library like this"
   ]
  },
  {
   "cell_type": "code",
   "execution_count": null,
   "metadata": {
    "vscode": {
     "languageId": "r"
    }
   },
   "outputs": [],
   "source": [
    "# Fetches where the column `Name` has value `Jenny`\n",
    "filter(students, Name == \"Jenny\")\n",
    "\n",
    "# Kind of works like the SQL in function\n",
    "# Basically queries where the `Name` column has `Jenny` and `Giovanni` in it.\n",
    "# The data to be queried is in vector form indicated by `c`\n",
    "filter(students, Name %in% c(\"Jenny\", \"Giovanni\"))\n",
    "\n",
    "# We can query mutliple factors just by adding a comma\n",
    "# This works as `AND` operation\n",
    "filter(students, StudyHours > 12, Grade > 80)\n",
    "\n",
    "# OR\n",
    "\n",
    "filter(students, StudyHours > 12 & Grade > 80)"
   ]
  },
  {
   "cell_type": "markdown",
   "metadata": {},
   "source": []
  }
 ],
 "metadata": {
  "language_info": {
   "name": "python"
  },
  "orig_nbformat": 4
 },
 "nbformat": 4,
 "nbformat_minor": 2
}

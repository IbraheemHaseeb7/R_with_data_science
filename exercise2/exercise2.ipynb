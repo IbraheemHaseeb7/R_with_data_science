{
 "cells": [
  {
   "cell_type": "markdown",
   "metadata": {},
   "source": [
    "# Data Visualizing in R\n",
    "\n",
    "we can use the ggplot2 library that comes with tidyverse to plot some graphs to visually look at some data"
   ]
  },
  {
   "cell_type": "code",
   "execution_count": null,
   "metadata": {
    "vscode": {
     "languageId": "r"
    }
   },
   "outputs": [],
   "source": [
    "# Import Libs\n",
    "library(tidyverse)\n",
    "\n",
    "# load from CSV\n",
    "df_students <- read.csv(file = \"https://raw.githubusercontent.com/MicrosoftDocs/ml-basics/master/data/grades.csv\")\n",
    "\n",
    "# remove rows with no data\n",
    "df_students <- df_students %>% drop_na()\n",
    "\n",
    "# Add a new column for Pass and Fail\n",
    "df_students <- df_students %>% mutate(Status = if_else(Grade >= 60, \"Pass\", \"Fail\"))"
   ]
  },
  {
   "cell_type": "markdown",
   "metadata": {},
   "source": [
    "## Visualize the data in Simple Graph\n",
    "\n",
    "You initialize a graphic by using the function ggplot() and the data frame to use for the plot. ggplot(data = df_students) basically creates an empty graph to which you can add layers by using a plus sign (+).\n",
    "\n",
    "geom_col() then adds a layer of bars whose height corresponds to the variables that are specified by the mapping argument. The mapping argument is always paired with aes(), which specifies how variables in the data are mapped. What goes into aes() are variables found in the data. In this case, you specified that you want to map Name to the x-axis and Grade to the y-axis."
   ]
  },
  {
   "cell_type": "code",
   "execution_count": null,
   "metadata": {
    "vscode": {
     "languageId": "r"
    }
   },
   "outputs": [],
   "source": [
    "ggplot(data = df_students) +\n",
    "  geom_col(mapping = aes(x = Name, y = Grade))"
   ]
  },
  {
   "cell_type": "markdown",
   "metadata": {},
   "source": [
    "![Alt text](image-1.png)"
   ]
  },
  {
   "cell_type": "markdown",
   "metadata": {},
   "source": [
    "## Improvment on previous Graph\n",
    "\n",
    "we can add some colors and titles to make it readable and more visually appealing to naked eye."
   ]
  },
  {
   "cell_type": "code",
   "execution_count": null,
   "metadata": {
    "vscode": {
     "languageId": "r"
    }
   },
   "outputs": [],
   "source": [
    "# Change the default grey background\n",
    "theme_set(theme_light())\n",
    "\n",
    "\n",
    "ggplot(data = df_students) +\n",
    "  geom_col(mapping = aes(x = Name, y = Grade),\n",
    "           # Specifiy color and transparency of the bars\n",
    "           fill = \"midnightblue\", alpha = 0.7) +\n",
    "  # Add a title to the chart\n",
    "  ggtitle(\"Student Grades\") +\n",
    "  # Add labels to axes\n",
    "  xlab(\"Student\") +\n",
    "  ylab(\"Grade\")"
   ]
  },
  {
   "cell_type": "markdown",
   "metadata": {},
   "source": [
    "![Alt text](image.png)"
   ]
  },
  {
   "cell_type": "code",
   "execution_count": null,
   "metadata": {
    "vscode": {
     "languageId": "r"
    }
   },
   "outputs": [],
   "source": [
    "# you can play with the theme and change whatever you like\n",
    "ggplot(data = df_students) +\n",
    "  geom_col(mapping = aes(x = Name, y = Grade),\n",
    "           fill = \"midnightblue\", alpha = 0.7) +\n",
    "  ggtitle(\"Student Grades\") +\n",
    "  xlab(\"Student\") +\n",
    "  ylab(\"Grade\") +\n",
    "  theme(\n",
    "    plot.title = element_text(hjust = 0.5),\n",
    "    panel.grid = element_blank(),\n",
    "    panel.grid.major.y = element_line(colour = \"gray\",\n",
    "                                      linetype = \"dashed\", size = 1),\n",
    "    axis.text.x = element_text(angle = 70)\n",
    "  )"
   ]
  },
  {
   "cell_type": "markdown",
   "metadata": {},
   "source": [
    "![Alt text](image3.png)"
   ]
  },
  {
   "cell_type": "markdown",
   "metadata": {},
   "source": [
    "## Historgram\n",
    "\n",
    "GGplot is extremely flexible and we can use it to further enhance our data visualizing and see where the grades or lying the most. For example with the graph below plotted we can see that most of our student's grades lie near 50"
   ]
  },
  {
   "cell_type": "code",
   "execution_count": null,
   "metadata": {
    "vscode": {
     "languageId": "r"
    }
   },
   "outputs": [],
   "source": [
    "ggplot(data = df_students) +\n",
    "  geom_histogram(mapping = aes(x = Grade), binwidth = 20, boundary = 0.5, fill = \"midnightblue\", alpha = 0.7) +\n",
    "  xlab('Grade') +\n",
    "  ylab('Frequency') +\n",
    "  ggtitle(\"Pussy Ass Graph\") +\n",
    "  theme(plot.title = element_text(hjust = 0.5))"
   ]
  },
  {
   "cell_type": "markdown",
   "metadata": {},
   "source": [
    "![Alt text](image.png)"
   ]
  },
  {
   "cell_type": "markdown",
   "metadata": {},
   "source": [
    "## Statistics\n",
    "\n",
    "Now we can move on to some data analytics using the concepts of Measures of Centeral Tendency. We can use the `statip` library in R to measure properties like min, max, median, mode, etc. Here's an example on how to do it."
   ]
  },
  {
   "cell_type": "code",
   "execution_count": null,
   "metadata": {
    "vscode": {
     "languageId": "r"
    }
   },
   "outputs": [],
   "source": [
    "# Load statip into the current R sesssion\n",
    "library(statip)\n",
    "\n",
    "# Get summary statistics\n",
    "min_val <- min(df_students$Grade)\n",
    "max_val <- max(df_students$Grade)\n",
    "mean_val <- mean(df_students$Grade)\n",
    "med_val <- median(df_students$Grade)\n",
    "mod_val <- mfv(df_students$Grade)\n",
    "\n",
    "# Print the stats\n",
    "cat(\n",
    "  \"Minimum: \", round(min_val, 2),\n",
    "   \"\\nMean: \", round(mean_val, 2),\n",
    "   \"\\nMedian: \", round(med_val, 2),\n",
    "   \"\\nMode: \", round(mod_val, 2),\n",
    "   \"\\nMaximum: \", round(max_val, 2)\n",
    ")"
   ]
  },
  {
   "cell_type": "code",
   "execution_count": null,
   "metadata": {
    "vscode": {
     "languageId": "r"
    }
   },
   "outputs": [],
   "source": [
    "# Plot a histogram\n",
    "ggplot(data = df_students) +\n",
    "  geom_histogram(mapping = aes(x = Grade), binwidth = 15, fill = \"midnightblue\", alpha = 0.7, boundary = 0.5) +\n",
    "  \n",
    "# Add lines for the statistics\n",
    "  geom_vline(xintercept = min_val, color = 'gray33', linetype = \"dashed\", size = 1.3) +\n",
    "  geom_vline(xintercept = mean_val, color = 'cyan', linetype = \"dashed\", size = 1.3) +\n",
    "  geom_vline(xintercept = med_val, color = 'red', linetype = \"dashed\", size = 1.3 ) +\n",
    "  geom_vline(xintercept = mod_val, color = 'yellow', linetype = \"dashed\", size = 1.3 ) +\n",
    "  geom_vline(xintercept = max_val, color = 'gray33', linetype = \"dashed\", size = 1.3 ) +\n",
    "  \n",
    "# Add titles and labels\n",
    "  ggtitle('Data Distribution')+\n",
    "  xlab('Value')+\n",
    "  ylab('Frequency')+\n",
    "  theme(plot.title = element_text(hjust = 0.5))"
   ]
  },
  {
   "cell_type": "markdown",
   "metadata": {},
   "source": [
    "![Alt text](image-1.png)"
   ]
  },
  {
   "cell_type": "markdown",
   "metadata": {},
   "source": [
    "## Lets write a Generic Function\n",
    "\n",
    "The function below works on numeric data and gives an output of various factors. It gives us all the measures of centeral tendencies. Besides it also helps us visualizing the data in 2 forms of graphs: BoxPlot and Historgram. From Histogram we can also plot some lines on it which help us graphically view the mode, median, and mean."
   ]
  },
  {
   "cell_type": "code",
   "execution_count": null,
   "metadata": {
    "vscode": {
     "languageId": "r"
    }
   },
   "outputs": [],
   "source": [
    "library(tidyverse)\n",
    "library(patchwork)\n",
    "# Create a function that you can reuse\n",
    "show_distribution <- function(var_data, binwidth) {\n",
    "  \n",
    "  # Get summary statistics by first extracting values from the column\n",
    "  min_val <- min(pull(var_data))\n",
    "  max_val <- max(pull(var_data))\n",
    "  mean_val <- mean(pull(var_data))\n",
    "  med_val <- median(pull(var_data))\n",
    "  mod_val <- statip::mfv(pull(var_data))\n",
    "\n",
    "  # Print the stats\n",
    "  stats <- glue::glue(\n",
    "  'Minimum: {format(round(min_val, 2), nsmall = 2)}\n",
    "   Mean: {format(round(mean_val, 2), nsmall = 2)}\n",
    "   Median: {format(round(med_val, 2), nsmall = 2)}\n",
    "   Mode: {format(round(mod_val, 2), nsmall = 2)}\n",
    "   Maximum: {format(round(max_val, 2), nsmall = 2)}'\n",
    "  )\n",
    "  \n",
    "  # Plot the histogram\n",
    "  hist_gram <- ggplot(var_data) +\n",
    "  geom_histogram(aes(x = pull(var_data)), binwidth = binwidth,\n",
    "                 fill = \"midnightblue\", alpha = 0.7, boundary = 0.4) +\n",
    "    \n",
    "  # Add lines for the statistics\n",
    "  geom_vline(xintercept = min_val, color = 'gray33', linetype = \"dashed\", size = 1.3) +\n",
    "  geom_vline(xintercept = mean_val, color = 'cyan', linetype = \"dashed\", size = 1.3) +\n",
    "  geom_vline(xintercept = med_val, color = 'red', linetype = \"dashed\", size = 1.3 ) +\n",
    "  geom_vline(xintercept = mod_val, color = 'yellow', linetype = \"dashed\", size = 1.3 ) +\n",
    "  geom_vline(xintercept = max_val, color = 'gray33', linetype = \"dashed\", size = 1.3 ) +\n",
    "    \n",
    "  # Add titles and labels\n",
    "  ggtitle('Data Distribution') +\n",
    "  xlab('')+\n",
    "  ylab('Frequency') +\n",
    "  theme(plot.title = element_text(hjust = 0.5))\n",
    "  \n",
    "  # Plot the box plot\n",
    "  bx_plt <- ggplot(data = var_data) +\n",
    "  geom_boxplot(mapping = aes(x = pull(var_data), y = 1),\n",
    "               fill = \"#E69F00\", color = \"gray23\", alpha = 0.7) +\n",
    "    \n",
    "    # Add titles and labels\n",
    "  xlab(\"Value\") +\n",
    "  ylab(\"\") +\n",
    "  theme(plot.title = element_text(hjust = 0.5))\n",
    "  \n",
    "  return (list(\n",
    "    stats,\n",
    "    hist_gram,\n",
    "    bx_plt\n",
    "  ))\n",
    "} # End of function\n",
    "\n",
    "df_students <- read.csv(file = \"https://raw.githubusercontent.com/MicrosoftDocs/ml-basics/master/data/grades.csv\")\n",
    "\n",
    "df_students <- df_students %>%\n",
    "drop_na()\n",
    "# mutate(Grade = replace_na(Grade, as.integer(mean(Grade, na.rm = TRUE))))\n",
    "\n",
    "col <- df_students %>% select(Grade)\n",
    "\n",
    "# Call the function\n",
    "show_distribution(var_data = col, binwidth = 20)"
   ]
  },
  {
   "cell_type": "markdown",
   "metadata": {},
   "source": [
    "## Another Get Denisty Function\n",
    "\n",
    "This function smoothes out the histogram and gives another form of visualizing towards the data"
   ]
  },
  {
   "cell_type": "code",
   "execution_count": null,
   "metadata": {
    "vscode": {
     "languageId": "r"
    }
   },
   "outputs": [],
   "source": [
    "# Create a function that returns a density plot\n",
    "show_density <- function(var_data) {\n",
    "  \n",
    "  # Get statistics\n",
    "  mean_val <- mean(pull(var_data))\n",
    "  med_val <- median(pull(var_data))\n",
    "  mod_val <- statip::mfv(pull(var_data))\n",
    "  \n",
    "  \n",
    "  # Plot the density plot\n",
    "  density_plot <- ggplot(data = var_data) +\n",
    "  geom_density(aes(x = pull(var_data)), fill=\"orangered\", color=\"white\", alpha=0.4) +\n",
    "    \n",
    "  # Add lines for the statistics\n",
    "  geom_vline(xintercept = mean_val, color = 'cyan', linetype = \"dashed\", size = 1.3) +\n",
    "  geom_vline(xintercept = med_val, color = 'red', linetype = \"dashed\", size = 1.3 ) +\n",
    "  geom_vline(xintercept = mod_val, color = 'yellow', linetype = \"dashed\", size = 1.3 ) +\n",
    "    \n",
    "  # Add titles and labels\n",
    "  ggtitle('Data Density') +\n",
    "  xlab('') +\n",
    "  ylab('Density') +\n",
    "  theme(plot.title = element_text(hjust = 0.5))\n",
    "  \n",
    "  \n",
    "  \n",
    "  return(density_plot) # End of returned outputs\n",
    "  \n",
    "} # End of function\n",
    "\n",
    "\n",
    "# Get the density of Grade\n",
    "col <- df_students %>% select(Grade)\n",
    "show_density(var_data = col)\n"
   ]
  }
 ],
 "metadata": {
  "language_info": {
   "name": "python"
  },
  "orig_nbformat": 4
 },
 "nbformat": 4,
 "nbformat_minor": 2
}
